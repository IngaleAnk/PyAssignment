{
  "nbformat": 4,
  "nbformat_minor": 0,
  "metadata": {
    "colab": {
      "provenance": []
    },
    "kernelspec": {
      "name": "python3",
      "display_name": "Python 3"
    },
    "language_info": {
      "name": "python"
    }
  },
  "cells": [
    {
      "cell_type": "code",
      "execution_count": 1,
      "metadata": {
        "id": "hwC7HranzSR-"
      },
      "outputs": [],
      "source": [
        "import pandas as pd\n",
        "import numpy as np\n"
      ]
    },
    {
      "cell_type": "code",
      "source": [
        "df = pd.read_csv('/content/friends - Sheet1.csv')\n",
        "print(df)"
      ],
      "metadata": {
        "id": "x7U8gwzr0bd3"
      },
      "execution_count": null,
      "outputs": []
    },
    {
      "cell_type": "code",
      "source": [
        "# Q1. There is an invalid value coded as \"xx\" in the height(cm) column. convert invalid values to \"NaN\n",
        "df['height(cm)'] = df['height(cm)'].replace('xx', pd.NA)\n",
        "print(df)"
      ],
      "metadata": {
        "id": "a6TRV6Tk0sce"
      },
      "execution_count": null,
      "outputs": []
    },
    {
      "cell_type": "code",
      "source": [
        "#split the 'age_sex' column into two separate columns.\n",
        "df[['age', 'sex']] = df['age_sex'].str.split('_', expand=True)\n",
        "df.drop(columns=['age_sex'], inplace=True)\n",
        "\n",
        "print(df)"
      ],
      "metadata": {
        "id": "eMwO3BOx0se9"
      },
      "execution_count": null,
      "outputs": []
    },
    {
      "cell_type": "code",
      "source": [
        "#Reorder the column labels\n",
        "df = df[['fname', 'lname', 'age', 'sex', 'section', 'height(cm)', 'weight(kg)', 'spend_A', 'spend_B', 'spend_C']]\n",
        "\n",
        "print(df)"
      ],
      "metadata": {
        "id": "_vZBR3VN0shp"
      },
      "execution_count": null,
      "outputs": []
    }
  ]
}